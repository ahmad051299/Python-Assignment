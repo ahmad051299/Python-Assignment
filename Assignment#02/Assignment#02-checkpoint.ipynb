{
 "cells": [
  {
   "cell_type": "code",
   "execution_count": 2,
   "metadata": {},
   "outputs": [
    {
     "name": "stdout",
     "output_type": "stream",
     "text": [
      "Enter the marks of subject#01 :45\n",
      "Enter the marks of subject#02 :81\n",
      "Enter the marks of subject#03 :65\n",
      "Enter the marks of subject#04 :99\n",
      "Enter the marks of subject#05 :85\n",
      "Percentage : 75.0\n",
      "Grade : A\n"
     ]
    }
   ],
   "source": [
    "#Question01\n",
    "sub1 = int(input(\"Enter the marks of subject#01 :\"))\n",
    "sub2 = int(input(\"Enter the marks of subject#02 :\"))\n",
    "sub3 = int(input(\"Enter the marks of subject#03 :\"))\n",
    "sub4 = int(input(\"Enter the marks of subject#04 :\"))\n",
    "sub5 = int(input(\"Enter the marks of subject#05 :\"))\n",
    "sum = sub1 + sub2 + sub3 + sub4 + sub5\n",
    "per = (sum/500)*100\n",
    "if per >=80 and per<=100:\n",
    "    print(\"Percentage :\",per)\n",
    "    print(\"Grade : A+\")\n",
    "elif per >=70 and per<80:\n",
    "    print(\"Percentage :\",per)\n",
    "    print(\"Grade : A\")\n",
    "elif per >=60 and per<70:\n",
    "    print(\"Percentage :\",per)\n",
    "    print(\"Grade : B\")\n",
    "elif per >=50 and per<60:\n",
    "    print(\"Percentage :\",per)\n",
    "    print(\"Grade : C\")\n",
    "elif per >=33 and per<50:\n",
    "    print(\"Percentage :\",per)\n",
    "    print(\"Grade : D\")\n",
    "elif per >=0 and per<33:\n",
    "    print(\"Percentage :\",per)\n",
    "    print(\"Grade : F\")\n",
    "else:\n",
    "    print(\"Something went wrong. Most probably error in your input\")\n"
   ]
  },
  {
   "cell_type": "code",
   "execution_count": 4,
   "metadata": {},
   "outputs": [
    {
     "name": "stdout",
     "output_type": "stream",
     "text": [
      "Enter a number : 3\n",
      "number is odd\n"
     ]
    }
   ],
   "source": [
    "#Question02\n",
    "num = int(input(\"Enter a number : \"))\n",
    "if num%2 == 0:\n",
    "    print(\"number is even\")\n",
    "else:\n",
    "    print(\"number is odd\")"
   ]
  },
  {
   "cell_type": "code",
   "execution_count": 7,
   "metadata": {},
   "outputs": [
    {
     "name": "stdout",
     "output_type": "stream",
     "text": [
      "Length :  9\n"
     ]
    }
   ],
   "source": [
    "#Question03\n",
    "arr = [0,1,2,3,4,5,6,7,8]\n",
    "print(\"Length : \",len(arr))"
   ]
  },
  {
   "cell_type": "code",
   "execution_count": 8,
   "metadata": {},
   "outputs": [
    {
     "name": "stdout",
     "output_type": "stream",
     "text": [
      "879\n"
     ]
    }
   ],
   "source": [
    "#Question4\n",
    "lists = [\"Ahmad\",179,\"Karachi\",200,500]\n",
    "add = lists[1]+lists[3]+lists[4]\n",
    "print(add)"
   ]
  },
  {
   "cell_type": "code",
   "execution_count": 9,
   "metadata": {},
   "outputs": [
    {
     "name": "stdout",
     "output_type": "stream",
     "text": [
      "34\n"
     ]
    }
   ],
   "source": [
    "#Question05\n",
    "arr1 = [1,2,4,3,6,9,7,6,22,34,11]\n",
    "lnum = max(arr1)\n",
    "print(lnum)"
   ]
  },
  {
   "cell_type": "code",
   "execution_count": 10,
   "metadata": {},
   "outputs": [
    {
     "name": "stdout",
     "output_type": "stream",
     "text": [
      "[1, 1, 2, 3]\n"
     ]
    }
   ],
   "source": [
    "#Question06\n",
    "a = [1,1,2,3,5,8,13,21,34,55,89]\n",
    "b = a[:4]\n",
    "print(b)"
   ]
  },
  {
   "cell_type": "code",
   "execution_count": null,
   "metadata": {},
   "outputs": [],
   "source": []
  }
 ],
 "metadata": {
  "kernelspec": {
   "display_name": "Python 3",
   "language": "python",
   "name": "python3"
  },
  "language_info": {
   "codemirror_mode": {
    "name": "ipython",
    "version": 3
   },
   "file_extension": ".py",
   "mimetype": "text/x-python",
   "name": "python",
   "nbconvert_exporter": "python",
   "pygments_lexer": "ipython3",
   "version": "3.7.4"
  }
 },
 "nbformat": 4,
 "nbformat_minor": 2
}
