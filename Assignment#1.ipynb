{
 "cells": [
  {
   "cell_type": "code",
   "execution_count": 11,
   "metadata": {},
   "outputs": [
    {
     "name": "stdout",
     "output_type": "stream",
     "text": [
      "Twinkle, twinkle, little star,\n",
      "\tHow I wonder what you are!\n",
      "\t\tUp above the world so high,\n",
      "\t\tHow I wonder what you are\n",
      "Twinkle, twinkle, little star,\n",
      "\tHow I wonder what you are\n"
     ]
    }
   ],
   "source": [
    "#QuestionNo1\n",
    "str0 = \"Twinkle, twinkle, little star,\"\n",
    "str1 = \"How I wonder what you are\"\n",
    "str2 = \"Up above the world so high,\"\n",
    "str3 = \"Like a diamond in the sky.\"\n",
    "print(str0+\"\\n\\t\"+str1+\"!\\n\\t\\t\"+str2+\"\\n\\t\\t\"+str1+\"\\n\"+str0+\"\\n\\t\"+str1)"
   ]
  },
  {
   "cell_type": "code",
   "execution_count": 15,
   "metadata": {},
   "outputs": [
    {
     "name": "stdout",
     "output_type": "stream",
     "text": [
      "Your Python version is :  3.7\n"
     ]
    }
   ],
   "source": [
    "#QuestionNo2\n",
    "PythonVersion = 3.7\n",
    "print(\"Your Python version is : \",PythonVersion)\n"
   ]
  },
  {
   "cell_type": "code",
   "execution_count": 25,
   "metadata": {},
   "outputs": [
    {
     "name": "stdout",
     "output_type": "stream",
     "text": [
      "Date & time :  2019-11-04 18:55:12.572057\n"
     ]
    }
   ],
   "source": [
    "#QuestionNo3\n",
    "import datetime\n",
    "now = datetime.datetime.now()\n",
    "print(\"Date & time : \",now)"
   ]
  },
  {
   "cell_type": "code",
   "execution_count": 31,
   "metadata": {},
   "outputs": [
    {
     "name": "stdout",
     "output_type": "stream",
     "text": [
      "Enter the radius of a circle : 2.4\n",
      "Area :  18.102857142857143\n"
     ]
    }
   ],
   "source": [
    "#QuestionNo4\n",
    "radius = float(input(\"Enter the radius of a circle : \"))\n",
    "pie = 22.0/7.0\n",
    "area = pie*radius*radius\n",
    "print(\"Area : \",area)"
   ]
  },
  {
   "cell_type": "code",
   "execution_count": 32,
   "metadata": {},
   "outputs": [
    {
     "name": "stdout",
     "output_type": "stream",
     "text": [
      "Enter Your First Name : Ahmad\n",
      "Enter Your Last Name : Sarfraz\n",
      "Sarfraz Ahmad\n"
     ]
    }
   ],
   "source": [
    "#QuestionNo5\n",
    "fname = input(\"Enter Your First Name : \")\n",
    "lname = input(\"Enter Your Last Name : \")\n",
    "print(lname+\" \"+fname)"
   ]
  },
  {
   "cell_type": "code",
   "execution_count": 34,
   "metadata": {},
   "outputs": [
    {
     "name": "stdout",
     "output_type": "stream",
     "text": [
      "Enter 1st number : 4\n",
      "Enter 2nd number : 5\n",
      "9\n"
     ]
    }
   ],
   "source": [
    "#QuestionNo6\n",
    "num = int(input(\"Enter 1st number : \"))\n",
    "num1 = int(input(\"Enter 2nd number : \"))\n",
    "print(num+num1)"
   ]
  },
  {
   "cell_type": "code",
   "execution_count": null,
   "metadata": {},
   "outputs": [],
   "source": []
  }
 ],
 "metadata": {
  "kernelspec": {
   "display_name": "Python 3",
   "language": "python",
   "name": "python3"
  },
  "language_info": {
   "codemirror_mode": {
    "name": "ipython",
    "version": 3
   },
   "file_extension": ".py",
   "mimetype": "text/x-python",
   "name": "python",
   "nbconvert_exporter": "python",
   "pygments_lexer": "ipython3",
   "version": "3.7.4"
  }
 },
 "nbformat": 4,
 "nbformat_minor": 2
}
