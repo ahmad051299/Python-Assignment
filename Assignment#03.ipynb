{
 "cells": [
  {
   "cell_type": "code",
   "execution_count": 3,
   "metadata": {},
   "outputs": [
    {
     "name": "stdout",
     "output_type": "stream",
     "text": [
      "Enter the first number : 4\n",
      "Enter the second number : 5\n",
      "What do you want to do?\n",
      "1)Addition\n",
      "2)Subtraction\n",
      "3)Multiplication\n",
      "4)Division\n",
      "5)Exponent\n",
      "5\n",
      "Answer =  1024\n"
     ]
    }
   ],
   "source": [
    "#Question01\n",
    "val1 = int(input(\"Enter the first number : \"))\n",
    "val2 = int(input(\"Enter the second number : \"))\n",
    "option = int(input(\"What do you want to do?\\n1)Addition\\n2)Subtraction\\n3)Multiplication\\n4)Division\\n5)Exponent\\n\"))\n",
    "if option==1:\n",
    "    ans = val1+val2\n",
    "    print(\"Answer = \",ans)\n",
    "elif option==2:\n",
    "    ans = val1-val2\n",
    "    print(\"Answer = \",ans)\n",
    "elif option==3:\n",
    "    ans = val1*val2\n",
    "    print(\"Answer = \",ans)\n",
    "elif option==4:\n",
    "    ans = val1/val2\n",
    "    print(\"Answer = \",ans)\n",
    "elif option==5:\n",
    "    ans = val1**val2\n",
    "    print(\"Answer = \",ans)"
   ]
  },
  {
   "cell_type": "code",
   "execution_count": 4,
   "metadata": {},
   "outputs": [
    {
     "name": "stdout",
     "output_type": "stream",
     "text": [
      "179\n",
      "2\n",
      "3\n",
      "56\n",
      "Above are the numeric values in the list\n"
     ]
    }
   ],
   "source": [
    "#Question02\n",
    "arr = [\"Ahmad\",\"179\",\"Sarfraz\",\"2\",\"3\",\"56\",\"Ali\"]\n",
    "for q2 in arr:\n",
    "    if q2.isnumeric() == False:\n",
    "        continue\n",
    "    else:\n",
    "        print(q2)\n",
    "print(\"Above are the numeric values in the list\")"
   ]
  },
  {
   "cell_type": "code",
   "execution_count": 5,
   "metadata": {},
   "outputs": [
    {
     "name": "stdout",
     "output_type": "stream",
     "text": [
      "{'FirstName': 'Ahmad', 'LastName': 'Sarfraz', 'University': 'SSUET', 'Studying': 'Python'}\n"
     ]
    }
   ],
   "source": [
    "#Question03\n",
    "dic = {\"FirstName\":\"Ahmad\",\"LastName\":\"Sarfraz\",\"University\":\"SSUET\"}\n",
    "dic['Studying'] = 'Python'\n",
    "print(dic)"
   ]
  },
  {
   "cell_type": "code",
   "execution_count": 6,
   "metadata": {},
   "outputs": [
    {
     "name": "stdout",
     "output_type": "stream",
     "text": [
      "288\n"
     ]
    }
   ],
   "source": [
    "#QuestionNo4\n",
    "dictionary = {\"0\":\"Ahmad\",\"1\":\"179\",\"2\":\"Sarfraz\",\"3\":\"ssuet\",\"4\":\"56\",\"5\":\"32\",\"6\":\"saylani\"}\n",
    "sum=0\n",
    "for ekey,evalue in dictionary.items():\n",
    "    if ekey.isnumeric()==True:\n",
    "        a=int(ekey)\n",
    "        sum =sum+a\n",
    "    if evalue.isnumeric()==True:\n",
    "        a=int(evalue)\n",
    "        sum =sum+a\n",
    "print(sum)"
   ]
  },
  {
   "cell_type": "code",
   "execution_count": 7,
   "metadata": {},
   "outputs": [
    {
     "name": "stdout",
     "output_type": "stream",
     "text": [
      "Enter key : FirstName\n",
      "This key already exists in the dictionary\n"
     ]
    }
   ],
   "source": [
    "#QuestionNo6\n",
    "dic2 = {\"FirstName\":\"Ahmad\",\"LastName\":\"Sarfraz\",\"University\":\"SSUET\"}\n",
    "for each_key in dic2.keys():\n",
    "    inputkey = input(\"Enter key : \")\n",
    "    if inputkey == each_key:\n",
    "        print(\"This key already exists in the dictionary\")\n",
    "        break\n",
    "    else:\n",
    "        print(\"This key doesn't exist in the dictionary\")"
   ]
  },
  {
   "cell_type": "code",
   "execution_count": null,
   "metadata": {},
   "outputs": [],
   "source": [
    "#I tried my best :(\n",
    "#QuestionNo5\n",
    "arr1 = [0]\n",
    "arr2 = [\"Ahmad\",\"Sarfraz\",56,\"Ahmad\",56]\n",
    "for q5 in arr2:\n",
    "    for q5_2 in arr2:\n",
    "        if q5[idx]==q5_2[idx]:  \n",
    "            if q5_2 == q5:\n",
    "                arr1.append(q5_2)\n",
    "            else:\n",
    "                continue\n",
    "print(arr1)\n"
   ]
  }
 ],
 "metadata": {
  "kernelspec": {
   "display_name": "Python 3",
   "language": "python",
   "name": "python3"
  },
  "language_info": {
   "codemirror_mode": {
    "name": "ipython",
    "version": 3
   },
   "file_extension": ".py",
   "mimetype": "text/x-python",
   "name": "python",
   "nbconvert_exporter": "python",
   "pygments_lexer": "ipython3",
   "version": "3.7.4"
  }
 },
 "nbformat": 4,
 "nbformat_minor": 2
}
